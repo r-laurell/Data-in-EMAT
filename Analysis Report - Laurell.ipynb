{
 "cells": [
  {
   "cell_type": "markdown",
   "id": "da78823a",
   "metadata": {},
   "source": [
    "# Analysis Report \n",
    "### Reanna Laurell | 11-21-2023\n",
    "My two favorite albums are Midnights and 1989 (Taylor's Version). These are currently my favorite albums as they are what I am currently listening to the most. With the release of 1989 (Taylor's Version) I was able to find songs that I didn't even apreciate much when the album first came out, as well as the new songs from the vault in this album have made this one of my favorite albums to listen too right now. As for Midnights, there are songs in there as well that are very catchy to me and once I have a song in my head I tend to just listen to that music over and over again until something new catches my attention. "
   ]
  },
  {
   "cell_type": "code",
   "execution_count": 362,
   "id": "962d628d",
   "metadata": {},
   "outputs": [],
   "source": [
    "import requests\n",
    "import pandas as pd\n",
    "import base64\n",
    "import json\n",
    "import urllib\n",
    "import numpy as np\n",
    "from scipy import stats\n",
    "from matplotlib import pyplot as plt"
   ]
  },
  {
   "cell_type": "markdown",
   "id": "a7a8b461",
   "metadata": {},
   "source": [
    "Bringing in the client id and secret numbers in order to access my spotify account code"
   ]
  },
  {
   "cell_type": "code",
   "execution_count": 363,
   "id": "e2466a24",
   "metadata": {},
   "outputs": [],
   "source": [
    "Client_ID = pd.read_csv('Spotify_Keys_9-19-2023.txt')['Client_ID'].iloc[0]"
   ]
  },
  {
   "cell_type": "code",
   "execution_count": 364,
   "id": "e2adad51",
   "metadata": {},
   "outputs": [],
   "source": [
    "Client_Secret = pd.read_csv('Spotify_Keys_9-19-2023.txt')['Client_Secret'].iloc[0]"
   ]
  },
  {
   "cell_type": "markdown",
   "id": "425d499b",
   "metadata": {},
   "source": [
    "Commenting out the numbers in order to never show the actual numbers given from Spotify"
   ]
  },
  {
   "cell_type": "code",
   "execution_count": 365,
   "id": "fc9ebc29",
   "metadata": {},
   "outputs": [],
   "source": [
    "# Client_ID"
   ]
  },
  {
   "cell_type": "code",
   "execution_count": 366,
   "id": "0f5dcaf3",
   "metadata": {},
   "outputs": [],
   "source": [
    "# Client_Secret"
   ]
  },
  {
   "cell_type": "markdown",
   "id": "31a43156",
   "metadata": {},
   "source": [
    "any string can be changed on the fly by adding in the {} with a dot format, can have multiple of the placeholders "
   ]
  },
  {
   "cell_type": "code",
   "execution_count": 367,
   "id": "f3cd6d04",
   "metadata": {},
   "outputs": [],
   "source": [
    "client_cred = base64.b64encode(str(Client_ID + \":\" + Client_Secret).encode(\"ascii\"))"
   ]
  },
  {
   "cell_type": "code",
   "execution_count": 368,
   "id": "d8c3d339",
   "metadata": {},
   "outputs": [],
   "source": [
    "# client_cred"
   ]
  },
  {
   "cell_type": "code",
   "execution_count": 369,
   "id": "9b0500d5",
   "metadata": {},
   "outputs": [],
   "source": [
    "headers = {\"Authorization\": \"Basic {}\".format(client_cred.decode(\"ascii\"))}"
   ]
  },
  {
   "cell_type": "code",
   "execution_count": 370,
   "id": "fe41213a",
   "metadata": {},
   "outputs": [],
   "source": [
    "# headers"
   ]
  },
  {
   "cell_type": "code",
   "execution_count": 371,
   "id": "53af9f29",
   "metadata": {},
   "outputs": [],
   "source": [
    "payload = {'grant_type' : 'client_credentials'}\n",
    "url = 'https://accounts.spotify.com/api/token'"
   ]
  },
  {
   "cell_type": "code",
   "execution_count": 372,
   "id": "b57b08a7",
   "metadata": {},
   "outputs": [],
   "source": [
    "session_key_response = requests.post(url = url, data = payload, headers = headers)"
   ]
  },
  {
   "cell_type": "code",
   "execution_count": 373,
   "id": "e56f8003",
   "metadata": {},
   "outputs": [
    {
     "data": {
      "text/plain": [
       "200"
      ]
     },
     "execution_count": 373,
     "metadata": {},
     "output_type": "execute_result"
    }
   ],
   "source": [
    "session_key_response.status_code"
   ]
  },
  {
   "cell_type": "code",
   "execution_count": 374,
   "id": "6aa73c5a",
   "metadata": {},
   "outputs": [],
   "source": [
    "# session_key_response.json()['access_token']"
   ]
  },
  {
   "cell_type": "code",
   "execution_count": 375,
   "id": "6d0aee99",
   "metadata": {},
   "outputs": [],
   "source": [
    "session_header_key = session_key_response.json()"
   ]
  },
  {
   "cell_type": "code",
   "execution_count": 376,
   "id": "53505127",
   "metadata": {},
   "outputs": [],
   "source": [
    "key = session_header_key['access_token']"
   ]
  },
  {
   "cell_type": "code",
   "execution_count": 377,
   "id": "8854ec45",
   "metadata": {
    "scrolled": true
   },
   "outputs": [],
   "source": [
    "session_headers = {\"Authorization\" : \"Bearer {}\".format(key)}"
   ]
  },
  {
   "cell_type": "code",
   "execution_count": 378,
   "id": "274b3fda",
   "metadata": {},
   "outputs": [],
   "source": [
    "# session_headers"
   ]
  },
  {
   "cell_type": "markdown",
   "id": "9a88f27b",
   "metadata": {},
   "source": [
    "Adding in the album id "
   ]
  },
  {
   "cell_type": "code",
   "execution_count": 379,
   "id": "b6f11469",
   "metadata": {},
   "outputs": [],
   "source": [
    "ts_id = '64LU4c1nfjz1t4VnGhagcg'"
   ]
  },
  {
   "cell_type": "code",
   "execution_count": 380,
   "id": "b5c70527",
   "metadata": {},
   "outputs": [],
   "source": [
    "midnights_id = '151w1FgRZfnKZA9FEcg9Z3'"
   ]
  },
  {
   "cell_type": "code",
   "execution_count": 381,
   "id": "9d84c8de",
   "metadata": {},
   "outputs": [],
   "source": [
    "ts_album_id = 'https://api.spotify.com/v1/audio-features?ids=1hR8BSuEqPCCZfv93zzzz9,45wMBGri1PORPjM9PwFfrS,1hjRhYpWyqDpPahmSlUTlc,045ZeOHPIzhxxsm8bq5kyE,6GXgd1BPD9bUpqw5AntGV5,3pv7Q5v2dpdefwdWIvE7yH,43y1WpBdnEy5TR9aZoSQL9,64FzgoLZ3oXu2SriZblHic,1K39ty6o1sHwwlZwO6a7wK,75W3SngKzTuoQ94uLf3y82,5QVVjX0ZItqlVpEuVCM9Yg,2f0GI2ZLUtbGqFx8t2Gk6A,2ByBBvpR9b7IynvRmnG7kG,2ve0kuaWUCt4Zx8x4bf1MR,4UwqOWDpdeIDVQDuKT6iza,2vPMoMDXxu9uX1igWZmXSG,71BqAINEnezjQfxE4VuJfq,4NioO5R9sHEZh4cGzMHyNt,5KD6AEm19QnMbfWpfoOHMl,6T0sEnqjmHISIKwFETeeiP,1Iq8oo9XkmmvCQiGOfORiz'"
   ]
  },
  {
   "cell_type": "code",
   "execution_count": 382,
   "id": "1075c42a",
   "metadata": {},
   "outputs": [],
   "source": [
    "mid_album_tracks = 'https://api.spotify.com/v1/albums/151w1FgRZfnKZA9FEcg9Z3/tracks'"
   ]
  },
  {
   "cell_type": "code",
   "execution_count": 383,
   "id": "b20dcf14",
   "metadata": {},
   "outputs": [],
   "source": [
    "ts_album_tracks = 'https://api.spotify.com/v1/albums/64LU4c1nfjz1t4VnGhagcg/tracks'"
   ]
  },
  {
   "cell_type": "code",
   "execution_count": 384,
   "id": "2cc902a0",
   "metadata": {},
   "outputs": [],
   "source": [
    "mid_album_id = 'https://api.spotify.com/v1/audio-features?ids=5jQI2r1RdgtuT8S3iG8zFC,3eX0NZfLtGzoLUxPNvRfqm,0V3wPSX9ygBnCm8psDIegu,1wtOxkiel43cVs0Yux5Q4h,4D7BCuvgdJlYvlX5WlN54t,3rWDp9tBPQR9z6U5YyRSK4,0heeNYlwOGuUSe7TgUD27B,1xwAWUI6Dj0WGC3KiUPN0O,3qoftcUZaUOncvIYjFSPdE,0A1JLUlkZkp2EFrosoNQi0,7KokYm8cMIXCsGVmUvKtqf,0wavGRldH0AWyu2zvTz8zb,7FmYn9e7KHMXcxqGSj9LjH,1hR8BSuEqPCCZfv93zzzz9,45wMBGri1PORPjM9PwFfrS,1hjRhYpWyqDpPahmSlUTlc,045ZeOHPIzhxxsm8bq5kyE,6GXgd1BPD9bUpqw5AntGV5,3pv7Q5v2dpdefwdWIvE7yH,43y1WpBdnEy5TR9aZoSQL9,64FzgoLZ3oXu2SriZblHic,1K39ty6o1sHwwlZwO6a7wK,75W3SngKzTuoQ94uLf3y82,5QVVjX0ZItqlVpEuVCM9Yg,2f0GI2ZLUtbGqFx8t2Gk6A,2ByBBvpR9b7IynvRmnG7kG,2ve0kuaWUCt4Zx8x4bf1MR,4UwqOWDpdeIDVQDuKT6iza,2vPMoMDXxu9uX1igWZmXSG,71BqAINEnezjQfxE4VuJfq,4NioO5R9sHEZh4cGzMHyNt,5KD6AEm19QnMbfWpfoOHMl,6T0sEnqjmHISIKwFETeeiP,1Iq8oo9XkmmvCQiGOfORiz'"
   ]
  },
  {
   "cell_type": "code",
   "execution_count": 412,
   "id": "ce9d49f6",
   "metadata": {},
   "outputs": [
    {
     "data": {
      "text/plain": [
       "'https://api.spotify.com/v1/audio-features?ids=1hR8BSuEqPCCZfv93zzzz9,45wMBGri1PORPjM9PwFfrS,1hjRhYpWyqDpPahmSlUTlc,045ZeOHPIzhxxsm8bq5kyE,6GXgd1BPD9bUpqw5AntGV5,3pv7Q5v2dpdefwdWIvE7yH,43y1WpBdnEy5TR9aZoSQL9,64FzgoLZ3oXu2SriZblHic,1K39ty6o1sHwwlZwO6a7wK,75W3SngKzTuoQ94uLf3y82,5QVVjX0ZItqlVpEuVCM9Yg,2f0GI2ZLUtbGqFx8t2Gk6A,2ByBBvpR9b7IynvRmnG7kG,2ve0kuaWUCt4Zx8x4bf1MR,4UwqOWDpdeIDVQDuKT6iza,2vPMoMDXxu9uX1igWZmXSG,71BqAINEnezjQfxE4VuJfq,4NioO5R9sHEZh4cGzMHyNt,5KD6AEm19QnMbfWpfoOHMl,6T0sEnqjmHISIKwFETeeiP,1Iq8oo9XkmmvCQiGOfORiz'"
      ]
     },
     "execution_count": 412,
     "metadata": {},
     "output_type": "execute_result"
    }
   ],
   "source": [
    "ts_album_id "
   ]
  },
  {
   "cell_type": "code",
   "execution_count": 413,
   "id": "dba2ee40",
   "metadata": {},
   "outputs": [
    {
     "data": {
      "text/plain": [
       "'https://api.spotify.com/v1/audio-features?ids=5jQI2r1RdgtuT8S3iG8zFC,3eX0NZfLtGzoLUxPNvRfqm,0V3wPSX9ygBnCm8psDIegu,1wtOxkiel43cVs0Yux5Q4h,4D7BCuvgdJlYvlX5WlN54t,3rWDp9tBPQR9z6U5YyRSK4,0heeNYlwOGuUSe7TgUD27B,1xwAWUI6Dj0WGC3KiUPN0O,3qoftcUZaUOncvIYjFSPdE,0A1JLUlkZkp2EFrosoNQi0,7KokYm8cMIXCsGVmUvKtqf,0wavGRldH0AWyu2zvTz8zb,7FmYn9e7KHMXcxqGSj9LjH,1hR8BSuEqPCCZfv93zzzz9,45wMBGri1PORPjM9PwFfrS,1hjRhYpWyqDpPahmSlUTlc,045ZeOHPIzhxxsm8bq5kyE,6GXgd1BPD9bUpqw5AntGV5,3pv7Q5v2dpdefwdWIvE7yH,43y1WpBdnEy5TR9aZoSQL9,64FzgoLZ3oXu2SriZblHic,1K39ty6o1sHwwlZwO6a7wK,75W3SngKzTuoQ94uLf3y82,5QVVjX0ZItqlVpEuVCM9Yg,2f0GI2ZLUtbGqFx8t2Gk6A,2ByBBvpR9b7IynvRmnG7kG,2ve0kuaWUCt4Zx8x4bf1MR,4UwqOWDpdeIDVQDuKT6iza,2vPMoMDXxu9uX1igWZmXSG,71BqAINEnezjQfxE4VuJfq,4NioO5R9sHEZh4cGzMHyNt,5KD6AEm19QnMbfWpfoOHMl,6T0sEnqjmHISIKwFETeeiP,1Iq8oo9XkmmvCQiGOfORiz'"
      ]
     },
     "execution_count": 413,
     "metadata": {},
     "output_type": "execute_result"
    }
   ],
   "source": [
    "mid_album_id"
   ]
  },
  {
   "cell_type": "code",
   "execution_count": 414,
   "id": "d12a3ea9",
   "metadata": {},
   "outputs": [
    {
     "data": {
      "text/plain": [
       "200"
      ]
     },
     "execution_count": 414,
     "metadata": {},
     "output_type": "execute_result"
    }
   ],
   "source": [
    "ts_album_response = requests.get(url = ts_album_id, headers = session_headers)\n",
    "ts_album_response.status_code"
   ]
  },
  {
   "cell_type": "code",
   "execution_count": 415,
   "id": "54dbed36",
   "metadata": {},
   "outputs": [
    {
     "data": {
      "text/plain": [
       "200"
      ]
     },
     "execution_count": 415,
     "metadata": {},
     "output_type": "execute_result"
    }
   ],
   "source": [
    "mid_album_response = requests.get(url = mid_album_id, headers = session_headers)\n",
    "mid_album_response.status_code"
   ]
  },
  {
   "cell_type": "code",
   "execution_count": 416,
   "id": "48e69d29",
   "metadata": {},
   "outputs": [],
   "source": [
    "ts_album_data = ts_album_response.json()"
   ]
  },
  {
   "cell_type": "code",
   "execution_count": 417,
   "id": "0d99fbf2",
   "metadata": {},
   "outputs": [],
   "source": [
    "mid_album_data = mid_album_response.json()"
   ]
  },
  {
   "cell_type": "code",
   "execution_count": 418,
   "id": "56c9a056",
   "metadata": {},
   "outputs": [
    {
     "data": {
      "text/plain": [
       "dict_keys(['audio_features'])"
      ]
     },
     "execution_count": 418,
     "metadata": {},
     "output_type": "execute_result"
    }
   ],
   "source": [
    "ts_album_data.keys()"
   ]
  },
  {
   "cell_type": "code",
   "execution_count": 419,
   "id": "c961bc95",
   "metadata": {},
   "outputs": [
    {
     "data": {
      "text/plain": [
       "dict_keys(['danceability', 'energy', 'key', 'loudness', 'mode', 'speechiness', 'acousticness', 'instrumentalness', 'liveness', 'valence', 'tempo', 'type', 'id', 'uri', 'track_href', 'analysis_url', 'duration_ms', 'time_signature'])"
      ]
     },
     "execution_count": 419,
     "metadata": {},
     "output_type": "execute_result"
    }
   ],
   "source": [
    "ts_album_data['audio_features'][0].keys()"
   ]
  },
  {
   "cell_type": "markdown",
   "id": "fe60b8c4",
   "metadata": {},
   "source": [
    "### Audio Features Selected : Danceability and Energy\n",
    "I selected energy and danceability as I feel that both of these albums will be give solid graphs with these two features. In these albums they have a range of upbeat songs and slower songs but just because a song is on the slower side doesn't mean that it isn't danceable to as well. I also felt that the energy would be an interesting feature to look and try to gain something from the data."
   ]
  },
  {
   "cell_type": "code",
   "execution_count": 420,
   "id": "2d6f3284",
   "metadata": {},
   "outputs": [],
   "source": [
    "ts_album_df = pd.DataFrame(ts_album_data['audio_features'])"
   ]
  },
  {
   "cell_type": "code",
   "execution_count": 421,
   "id": "248169bb",
   "metadata": {},
   "outputs": [],
   "source": [
    "mid_album_df = pd.DataFrame(mid_album_data['audio_features'])"
   ]
  },
  {
   "cell_type": "markdown",
   "id": "f99e82eb",
   "metadata": {},
   "source": [
    "### Data Frames"
   ]
  },
  {
   "cell_type": "code",
   "execution_count": 422,
   "id": "8f9c5ce1",
   "metadata": {},
   "outputs": [
    {
     "data": {
      "text/html": [
       "<div>\n",
       "<style scoped>\n",
       "    .dataframe tbody tr th:only-of-type {\n",
       "        vertical-align: middle;\n",
       "    }\n",
       "\n",
       "    .dataframe tbody tr th {\n",
       "        vertical-align: top;\n",
       "    }\n",
       "\n",
       "    .dataframe thead th {\n",
       "        text-align: right;\n",
       "    }\n",
       "</style>\n",
       "<table border=\"1\" class=\"dataframe\">\n",
       "  <thead>\n",
       "    <tr style=\"text-align: right;\">\n",
       "      <th></th>\n",
       "      <th>danceability</th>\n",
       "      <th>energy</th>\n",
       "      <th>key</th>\n",
       "      <th>loudness</th>\n",
       "      <th>mode</th>\n",
       "      <th>speechiness</th>\n",
       "      <th>acousticness</th>\n",
       "      <th>instrumentalness</th>\n",
       "      <th>liveness</th>\n",
       "      <th>valence</th>\n",
       "      <th>tempo</th>\n",
       "      <th>type</th>\n",
       "      <th>id</th>\n",
       "      <th>uri</th>\n",
       "      <th>track_href</th>\n",
       "      <th>analysis_url</th>\n",
       "      <th>duration_ms</th>\n",
       "      <th>time_signature</th>\n",
       "    </tr>\n",
       "  </thead>\n",
       "  <tbody>\n",
       "    <tr>\n",
       "      <th>0</th>\n",
       "      <td>0.761</td>\n",
       "      <td>0.607</td>\n",
       "      <td>7</td>\n",
       "      <td>-4.830</td>\n",
       "      <td>1</td>\n",
       "      <td>0.0312</td>\n",
       "      <td>0.009610</td>\n",
       "      <td>0.000022</td>\n",
       "      <td>0.3670</td>\n",
       "      <td>0.674</td>\n",
       "      <td>116.980</td>\n",
       "      <td>audio_features</td>\n",
       "      <td>1hR8BSuEqPCCZfv93zzzz9</td>\n",
       "      <td>spotify:track:1hR8BSuEqPCCZfv93zzzz9</td>\n",
       "      <td>https://api.spotify.com/v1/tracks/1hR8BSuEqPCC...</td>\n",
       "      <td>https://api.spotify.com/v1/audio-analysis/1hR8...</td>\n",
       "      <td>212600</td>\n",
       "      <td>4</td>\n",
       "    </tr>\n",
       "    <tr>\n",
       "      <th>1</th>\n",
       "      <td>0.737</td>\n",
       "      <td>0.725</td>\n",
       "      <td>0</td>\n",
       "      <td>-5.417</td>\n",
       "      <td>1</td>\n",
       "      <td>0.0641</td>\n",
       "      <td>0.097600</td>\n",
       "      <td>0.000000</td>\n",
       "      <td>0.1740</td>\n",
       "      <td>0.755</td>\n",
       "      <td>96.012</td>\n",
       "      <td>audio_features</td>\n",
       "      <td>45wMBGri1PORPjM9PwFfrS</td>\n",
       "      <td>spotify:track:45wMBGri1PORPjM9PwFfrS</td>\n",
       "      <td>https://api.spotify.com/v1/tracks/45wMBGri1POR...</td>\n",
       "      <td>https://api.spotify.com/v1/audio-analysis/45wM...</td>\n",
       "      <td>231833</td>\n",
       "      <td>4</td>\n",
       "    </tr>\n",
       "    <tr>\n",
       "      <th>2</th>\n",
       "      <td>0.575</td>\n",
       "      <td>0.824</td>\n",
       "      <td>2</td>\n",
       "      <td>-4.823</td>\n",
       "      <td>1</td>\n",
       "      <td>0.0380</td>\n",
       "      <td>0.000418</td>\n",
       "      <td>0.021400</td>\n",
       "      <td>0.0901</td>\n",
       "      <td>0.292</td>\n",
       "      <td>94.971</td>\n",
       "      <td>audio_features</td>\n",
       "      <td>1hjRhYpWyqDpPahmSlUTlc</td>\n",
       "      <td>spotify:track:1hjRhYpWyqDpPahmSlUTlc</td>\n",
       "      <td>https://api.spotify.com/v1/tracks/1hjRhYpWyqDp...</td>\n",
       "      <td>https://api.spotify.com/v1/audio-analysis/1hjR...</td>\n",
       "      <td>231000</td>\n",
       "      <td>4</td>\n",
       "    </tr>\n",
       "    <tr>\n",
       "      <th>3</th>\n",
       "      <td>0.547</td>\n",
       "      <td>0.885</td>\n",
       "      <td>0</td>\n",
       "      <td>-5.961</td>\n",
       "      <td>1</td>\n",
       "      <td>0.0418</td>\n",
       "      <td>0.000512</td>\n",
       "      <td>0.000094</td>\n",
       "      <td>0.3900</td>\n",
       "      <td>0.192</td>\n",
       "      <td>91.992</td>\n",
       "      <td>audio_features</td>\n",
       "      <td>045ZeOHPIzhxxsm8bq5kyE</td>\n",
       "      <td>spotify:track:045ZeOHPIzhxxsm8bq5kyE</td>\n",
       "      <td>https://api.spotify.com/v1/tracks/045ZeOHPIzhx...</td>\n",
       "      <td>https://api.spotify.com/v1/audio-analysis/045Z...</td>\n",
       "      <td>235800</td>\n",
       "      <td>4</td>\n",
       "    </tr>\n",
       "    <tr>\n",
       "      <th>4</th>\n",
       "      <td>0.586</td>\n",
       "      <td>0.720</td>\n",
       "      <td>0</td>\n",
       "      <td>-5.556</td>\n",
       "      <td>1</td>\n",
       "      <td>0.0350</td>\n",
       "      <td>0.000718</td>\n",
       "      <td>0.000000</td>\n",
       "      <td>0.0949</td>\n",
       "      <td>0.481</td>\n",
       "      <td>97.057</td>\n",
       "      <td>audio_features</td>\n",
       "      <td>6GXgd1BPD9bUpqw5AntGV5</td>\n",
       "      <td>spotify:track:6GXgd1BPD9bUpqw5AntGV5</td>\n",
       "      <td>https://api.spotify.com/v1/tracks/6GXgd1BPD9bU...</td>\n",
       "      <td>https://api.spotify.com/v1/audio-analysis/6GXg...</td>\n",
       "      <td>193289</td>\n",
       "      <td>4</td>\n",
       "    </tr>\n",
       "  </tbody>\n",
       "</table>\n",
       "</div>"
      ],
      "text/plain": [
       "   danceability  energy  key  loudness  mode  speechiness  acousticness  \\\n",
       "0         0.761   0.607    7    -4.830     1       0.0312      0.009610   \n",
       "1         0.737   0.725    0    -5.417     1       0.0641      0.097600   \n",
       "2         0.575   0.824    2    -4.823     1       0.0380      0.000418   \n",
       "3         0.547   0.885    0    -5.961     1       0.0418      0.000512   \n",
       "4         0.586   0.720    0    -5.556     1       0.0350      0.000718   \n",
       "\n",
       "   instrumentalness  liveness  valence    tempo            type  \\\n",
       "0          0.000022    0.3670    0.674  116.980  audio_features   \n",
       "1          0.000000    0.1740    0.755   96.012  audio_features   \n",
       "2          0.021400    0.0901    0.292   94.971  audio_features   \n",
       "3          0.000094    0.3900    0.192   91.992  audio_features   \n",
       "4          0.000000    0.0949    0.481   97.057  audio_features   \n",
       "\n",
       "                       id                                   uri  \\\n",
       "0  1hR8BSuEqPCCZfv93zzzz9  spotify:track:1hR8BSuEqPCCZfv93zzzz9   \n",
       "1  45wMBGri1PORPjM9PwFfrS  spotify:track:45wMBGri1PORPjM9PwFfrS   \n",
       "2  1hjRhYpWyqDpPahmSlUTlc  spotify:track:1hjRhYpWyqDpPahmSlUTlc   \n",
       "3  045ZeOHPIzhxxsm8bq5kyE  spotify:track:045ZeOHPIzhxxsm8bq5kyE   \n",
       "4  6GXgd1BPD9bUpqw5AntGV5  spotify:track:6GXgd1BPD9bUpqw5AntGV5   \n",
       "\n",
       "                                          track_href  \\\n",
       "0  https://api.spotify.com/v1/tracks/1hR8BSuEqPCC...   \n",
       "1  https://api.spotify.com/v1/tracks/45wMBGri1POR...   \n",
       "2  https://api.spotify.com/v1/tracks/1hjRhYpWyqDp...   \n",
       "3  https://api.spotify.com/v1/tracks/045ZeOHPIzhx...   \n",
       "4  https://api.spotify.com/v1/tracks/6GXgd1BPD9bU...   \n",
       "\n",
       "                                        analysis_url  duration_ms  \\\n",
       "0  https://api.spotify.com/v1/audio-analysis/1hR8...       212600   \n",
       "1  https://api.spotify.com/v1/audio-analysis/45wM...       231833   \n",
       "2  https://api.spotify.com/v1/audio-analysis/1hjR...       231000   \n",
       "3  https://api.spotify.com/v1/audio-analysis/045Z...       235800   \n",
       "4  https://api.spotify.com/v1/audio-analysis/6GXg...       193289   \n",
       "\n",
       "   time_signature  \n",
       "0               4  \n",
       "1               4  \n",
       "2               4  \n",
       "3               4  \n",
       "4               4  "
      ]
     },
     "execution_count": 422,
     "metadata": {},
     "output_type": "execute_result"
    }
   ],
   "source": [
    "ts_album_df.head()"
   ]
  },
  {
   "cell_type": "code",
   "execution_count": 423,
   "id": "fc9cdf7e",
   "metadata": {},
   "outputs": [
    {
     "data": {
      "text/html": [
       "<div>\n",
       "<style scoped>\n",
       "    .dataframe tbody tr th:only-of-type {\n",
       "        vertical-align: middle;\n",
       "    }\n",
       "\n",
       "    .dataframe tbody tr th {\n",
       "        vertical-align: top;\n",
       "    }\n",
       "\n",
       "    .dataframe thead th {\n",
       "        text-align: right;\n",
       "    }\n",
       "</style>\n",
       "<table border=\"1\" class=\"dataframe\">\n",
       "  <thead>\n",
       "    <tr style=\"text-align: right;\">\n",
       "      <th></th>\n",
       "      <th>danceability</th>\n",
       "      <th>energy</th>\n",
       "      <th>key</th>\n",
       "      <th>loudness</th>\n",
       "      <th>mode</th>\n",
       "      <th>speechiness</th>\n",
       "      <th>acousticness</th>\n",
       "      <th>instrumentalness</th>\n",
       "      <th>liveness</th>\n",
       "      <th>valence</th>\n",
       "      <th>tempo</th>\n",
       "      <th>type</th>\n",
       "      <th>id</th>\n",
       "      <th>uri</th>\n",
       "      <th>track_href</th>\n",
       "      <th>analysis_url</th>\n",
       "      <th>duration_ms</th>\n",
       "      <th>time_signature</th>\n",
       "    </tr>\n",
       "  </thead>\n",
       "  <tbody>\n",
       "    <tr>\n",
       "      <th>0</th>\n",
       "      <td>0.733</td>\n",
       "      <td>0.436</td>\n",
       "      <td>10</td>\n",
       "      <td>-10.489</td>\n",
       "      <td>1</td>\n",
       "      <td>0.0800</td>\n",
       "      <td>0.2580</td>\n",
       "      <td>0.000573</td>\n",
       "      <td>0.157</td>\n",
       "      <td>0.0976</td>\n",
       "      <td>96.985</td>\n",
       "      <td>audio_features</td>\n",
       "      <td>5jQI2r1RdgtuT8S3iG8zFC</td>\n",
       "      <td>spotify:track:5jQI2r1RdgtuT8S3iG8zFC</td>\n",
       "      <td>https://api.spotify.com/v1/tracks/5jQI2r1Rdgtu...</td>\n",
       "      <td>https://api.spotify.com/v1/audio-analysis/5jQI...</td>\n",
       "      <td>202396</td>\n",
       "      <td>4</td>\n",
       "    </tr>\n",
       "    <tr>\n",
       "      <th>1</th>\n",
       "      <td>0.637</td>\n",
       "      <td>0.398</td>\n",
       "      <td>7</td>\n",
       "      <td>-8.294</td>\n",
       "      <td>1</td>\n",
       "      <td>0.0564</td>\n",
       "      <td>0.0573</td>\n",
       "      <td>0.000001</td>\n",
       "      <td>0.101</td>\n",
       "      <td>0.0374</td>\n",
       "      <td>108.075</td>\n",
       "      <td>audio_features</td>\n",
       "      <td>3eX0NZfLtGzoLUxPNvRfqm</td>\n",
       "      <td>spotify:track:3eX0NZfLtGzoLUxPNvRfqm</td>\n",
       "      <td>https://api.spotify.com/v1/tracks/3eX0NZfLtGzo...</td>\n",
       "      <td>https://api.spotify.com/v1/audio-analysis/3eX0...</td>\n",
       "      <td>218271</td>\n",
       "      <td>4</td>\n",
       "    </tr>\n",
       "    <tr>\n",
       "      <th>2</th>\n",
       "      <td>0.637</td>\n",
       "      <td>0.643</td>\n",
       "      <td>4</td>\n",
       "      <td>-6.571</td>\n",
       "      <td>1</td>\n",
       "      <td>0.0519</td>\n",
       "      <td>0.1300</td>\n",
       "      <td>0.000002</td>\n",
       "      <td>0.142</td>\n",
       "      <td>0.5330</td>\n",
       "      <td>97.008</td>\n",
       "      <td>audio_features</td>\n",
       "      <td>0V3wPSX9ygBnCm8psDIegu</td>\n",
       "      <td>spotify:track:0V3wPSX9ygBnCm8psDIegu</td>\n",
       "      <td>https://api.spotify.com/v1/tracks/0V3wPSX9ygBn...</td>\n",
       "      <td>https://api.spotify.com/v1/audio-analysis/0V3w...</td>\n",
       "      <td>200690</td>\n",
       "      <td>4</td>\n",
       "    </tr>\n",
       "    <tr>\n",
       "      <th>3</th>\n",
       "      <td>0.663</td>\n",
       "      <td>0.319</td>\n",
       "      <td>9</td>\n",
       "      <td>-13.481</td>\n",
       "      <td>1</td>\n",
       "      <td>0.0375</td>\n",
       "      <td>0.6900</td>\n",
       "      <td>0.000993</td>\n",
       "      <td>0.117</td>\n",
       "      <td>0.1930</td>\n",
       "      <td>109.957</td>\n",
       "      <td>audio_features</td>\n",
       "      <td>1wtOxkiel43cVs0Yux5Q4h</td>\n",
       "      <td>spotify:track:1wtOxkiel43cVs0Yux5Q4h</td>\n",
       "      <td>https://api.spotify.com/v1/tracks/1wtOxkiel43c...</td>\n",
       "      <td>https://api.spotify.com/v1/audio-analysis/1wtO...</td>\n",
       "      <td>256124</td>\n",
       "      <td>4</td>\n",
       "    </tr>\n",
       "    <tr>\n",
       "      <th>4</th>\n",
       "      <td>0.696</td>\n",
       "      <td>0.396</td>\n",
       "      <td>2</td>\n",
       "      <td>-10.289</td>\n",
       "      <td>1</td>\n",
       "      <td>0.0656</td>\n",
       "      <td>0.4010</td>\n",
       "      <td>0.000005</td>\n",
       "      <td>0.125</td>\n",
       "      <td>0.3800</td>\n",
       "      <td>120.041</td>\n",
       "      <td>audio_features</td>\n",
       "      <td>4D7BCuvgdJlYvlX5WlN54t</td>\n",
       "      <td>spotify:track:4D7BCuvgdJlYvlX5WlN54t</td>\n",
       "      <td>https://api.spotify.com/v1/tracks/4D7BCuvgdJlY...</td>\n",
       "      <td>https://api.spotify.com/v1/audio-analysis/4D7B...</td>\n",
       "      <td>194207</td>\n",
       "      <td>4</td>\n",
       "    </tr>\n",
       "  </tbody>\n",
       "</table>\n",
       "</div>"
      ],
      "text/plain": [
       "   danceability  energy  key  loudness  mode  speechiness  acousticness  \\\n",
       "0         0.733   0.436   10   -10.489     1       0.0800        0.2580   \n",
       "1         0.637   0.398    7    -8.294     1       0.0564        0.0573   \n",
       "2         0.637   0.643    4    -6.571     1       0.0519        0.1300   \n",
       "3         0.663   0.319    9   -13.481     1       0.0375        0.6900   \n",
       "4         0.696   0.396    2   -10.289     1       0.0656        0.4010   \n",
       "\n",
       "   instrumentalness  liveness  valence    tempo            type  \\\n",
       "0          0.000573     0.157   0.0976   96.985  audio_features   \n",
       "1          0.000001     0.101   0.0374  108.075  audio_features   \n",
       "2          0.000002     0.142   0.5330   97.008  audio_features   \n",
       "3          0.000993     0.117   0.1930  109.957  audio_features   \n",
       "4          0.000005     0.125   0.3800  120.041  audio_features   \n",
       "\n",
       "                       id                                   uri  \\\n",
       "0  5jQI2r1RdgtuT8S3iG8zFC  spotify:track:5jQI2r1RdgtuT8S3iG8zFC   \n",
       "1  3eX0NZfLtGzoLUxPNvRfqm  spotify:track:3eX0NZfLtGzoLUxPNvRfqm   \n",
       "2  0V3wPSX9ygBnCm8psDIegu  spotify:track:0V3wPSX9ygBnCm8psDIegu   \n",
       "3  1wtOxkiel43cVs0Yux5Q4h  spotify:track:1wtOxkiel43cVs0Yux5Q4h   \n",
       "4  4D7BCuvgdJlYvlX5WlN54t  spotify:track:4D7BCuvgdJlYvlX5WlN54t   \n",
       "\n",
       "                                          track_href  \\\n",
       "0  https://api.spotify.com/v1/tracks/5jQI2r1Rdgtu...   \n",
       "1  https://api.spotify.com/v1/tracks/3eX0NZfLtGzo...   \n",
       "2  https://api.spotify.com/v1/tracks/0V3wPSX9ygBn...   \n",
       "3  https://api.spotify.com/v1/tracks/1wtOxkiel43c...   \n",
       "4  https://api.spotify.com/v1/tracks/4D7BCuvgdJlY...   \n",
       "\n",
       "                                        analysis_url  duration_ms  \\\n",
       "0  https://api.spotify.com/v1/audio-analysis/5jQI...       202396   \n",
       "1  https://api.spotify.com/v1/audio-analysis/3eX0...       218271   \n",
       "2  https://api.spotify.com/v1/audio-analysis/0V3w...       200690   \n",
       "3  https://api.spotify.com/v1/audio-analysis/1wtO...       256124   \n",
       "4  https://api.spotify.com/v1/audio-analysis/4D7B...       194207   \n",
       "\n",
       "   time_signature  \n",
       "0               4  \n",
       "1               4  \n",
       "2               4  \n",
       "3               4  \n",
       "4               4  "
      ]
     },
     "execution_count": 423,
     "metadata": {},
     "output_type": "execute_result"
    }
   ],
   "source": [
    "mid_album_df.head()"
   ]
  },
  {
   "cell_type": "markdown",
   "id": "b753ee4c",
   "metadata": {},
   "source": [
    "### Joined Data Frame"
   ]
  },
  {
   "cell_type": "code",
   "execution_count": 424,
   "id": "5a8f5410",
   "metadata": {},
   "outputs": [],
   "source": [
    "joined_df = pd.merge(mid_album_df, ts_album_df, how = 'inner', on = 'id')"
   ]
  },
  {
   "cell_type": "code",
   "execution_count": 425,
   "id": "771e8c45",
   "metadata": {},
   "outputs": [
    {
     "data": {
      "text/html": [
       "<div>\n",
       "<style scoped>\n",
       "    .dataframe tbody tr th:only-of-type {\n",
       "        vertical-align: middle;\n",
       "    }\n",
       "\n",
       "    .dataframe tbody tr th {\n",
       "        vertical-align: top;\n",
       "    }\n",
       "\n",
       "    .dataframe thead th {\n",
       "        text-align: right;\n",
       "    }\n",
       "</style>\n",
       "<table border=\"1\" class=\"dataframe\">\n",
       "  <thead>\n",
       "    <tr style=\"text-align: right;\">\n",
       "      <th></th>\n",
       "      <th>danceability_x</th>\n",
       "      <th>energy_x</th>\n",
       "      <th>key_x</th>\n",
       "      <th>loudness_x</th>\n",
       "      <th>mode_x</th>\n",
       "      <th>speechiness_x</th>\n",
       "      <th>acousticness_x</th>\n",
       "      <th>instrumentalness_x</th>\n",
       "      <th>liveness_x</th>\n",
       "      <th>valence_x</th>\n",
       "      <th>...</th>\n",
       "      <th>instrumentalness_y</th>\n",
       "      <th>liveness_y</th>\n",
       "      <th>valence_y</th>\n",
       "      <th>tempo_y</th>\n",
       "      <th>type_y</th>\n",
       "      <th>uri_y</th>\n",
       "      <th>track_href_y</th>\n",
       "      <th>analysis_url_y</th>\n",
       "      <th>duration_ms_y</th>\n",
       "      <th>time_signature_y</th>\n",
       "    </tr>\n",
       "  </thead>\n",
       "  <tbody>\n",
       "    <tr>\n",
       "      <th>0</th>\n",
       "      <td>0.761</td>\n",
       "      <td>0.607</td>\n",
       "      <td>7</td>\n",
       "      <td>-4.830</td>\n",
       "      <td>1</td>\n",
       "      <td>0.0312</td>\n",
       "      <td>0.009610</td>\n",
       "      <td>0.000022</td>\n",
       "      <td>0.3670</td>\n",
       "      <td>0.674</td>\n",
       "      <td>...</td>\n",
       "      <td>0.000022</td>\n",
       "      <td>0.3670</td>\n",
       "      <td>0.674</td>\n",
       "      <td>116.980</td>\n",
       "      <td>audio_features</td>\n",
       "      <td>spotify:track:1hR8BSuEqPCCZfv93zzzz9</td>\n",
       "      <td>https://api.spotify.com/v1/tracks/1hR8BSuEqPCC...</td>\n",
       "      <td>https://api.spotify.com/v1/audio-analysis/1hR8...</td>\n",
       "      <td>212600</td>\n",
       "      <td>4</td>\n",
       "    </tr>\n",
       "    <tr>\n",
       "      <th>1</th>\n",
       "      <td>0.737</td>\n",
       "      <td>0.725</td>\n",
       "      <td>0</td>\n",
       "      <td>-5.417</td>\n",
       "      <td>1</td>\n",
       "      <td>0.0641</td>\n",
       "      <td>0.097600</td>\n",
       "      <td>0.000000</td>\n",
       "      <td>0.1740</td>\n",
       "      <td>0.755</td>\n",
       "      <td>...</td>\n",
       "      <td>0.000000</td>\n",
       "      <td>0.1740</td>\n",
       "      <td>0.755</td>\n",
       "      <td>96.012</td>\n",
       "      <td>audio_features</td>\n",
       "      <td>spotify:track:45wMBGri1PORPjM9PwFfrS</td>\n",
       "      <td>https://api.spotify.com/v1/tracks/45wMBGri1POR...</td>\n",
       "      <td>https://api.spotify.com/v1/audio-analysis/45wM...</td>\n",
       "      <td>231833</td>\n",
       "      <td>4</td>\n",
       "    </tr>\n",
       "    <tr>\n",
       "      <th>2</th>\n",
       "      <td>0.575</td>\n",
       "      <td>0.824</td>\n",
       "      <td>2</td>\n",
       "      <td>-4.823</td>\n",
       "      <td>1</td>\n",
       "      <td>0.0380</td>\n",
       "      <td>0.000418</td>\n",
       "      <td>0.021400</td>\n",
       "      <td>0.0901</td>\n",
       "      <td>0.292</td>\n",
       "      <td>...</td>\n",
       "      <td>0.021400</td>\n",
       "      <td>0.0901</td>\n",
       "      <td>0.292</td>\n",
       "      <td>94.971</td>\n",
       "      <td>audio_features</td>\n",
       "      <td>spotify:track:1hjRhYpWyqDpPahmSlUTlc</td>\n",
       "      <td>https://api.spotify.com/v1/tracks/1hjRhYpWyqDp...</td>\n",
       "      <td>https://api.spotify.com/v1/audio-analysis/1hjR...</td>\n",
       "      <td>231000</td>\n",
       "      <td>4</td>\n",
       "    </tr>\n",
       "    <tr>\n",
       "      <th>3</th>\n",
       "      <td>0.547</td>\n",
       "      <td>0.885</td>\n",
       "      <td>0</td>\n",
       "      <td>-5.961</td>\n",
       "      <td>1</td>\n",
       "      <td>0.0418</td>\n",
       "      <td>0.000512</td>\n",
       "      <td>0.000094</td>\n",
       "      <td>0.3900</td>\n",
       "      <td>0.192</td>\n",
       "      <td>...</td>\n",
       "      <td>0.000094</td>\n",
       "      <td>0.3900</td>\n",
       "      <td>0.192</td>\n",
       "      <td>91.992</td>\n",
       "      <td>audio_features</td>\n",
       "      <td>spotify:track:045ZeOHPIzhxxsm8bq5kyE</td>\n",
       "      <td>https://api.spotify.com/v1/tracks/045ZeOHPIzhx...</td>\n",
       "      <td>https://api.spotify.com/v1/audio-analysis/045Z...</td>\n",
       "      <td>235800</td>\n",
       "      <td>4</td>\n",
       "    </tr>\n",
       "    <tr>\n",
       "      <th>4</th>\n",
       "      <td>0.586</td>\n",
       "      <td>0.720</td>\n",
       "      <td>0</td>\n",
       "      <td>-5.556</td>\n",
       "      <td>1</td>\n",
       "      <td>0.0350</td>\n",
       "      <td>0.000718</td>\n",
       "      <td>0.000000</td>\n",
       "      <td>0.0949</td>\n",
       "      <td>0.481</td>\n",
       "      <td>...</td>\n",
       "      <td>0.000000</td>\n",
       "      <td>0.0949</td>\n",
       "      <td>0.481</td>\n",
       "      <td>97.057</td>\n",
       "      <td>audio_features</td>\n",
       "      <td>spotify:track:6GXgd1BPD9bUpqw5AntGV5</td>\n",
       "      <td>https://api.spotify.com/v1/tracks/6GXgd1BPD9bU...</td>\n",
       "      <td>https://api.spotify.com/v1/audio-analysis/6GXg...</td>\n",
       "      <td>193289</td>\n",
       "      <td>4</td>\n",
       "    </tr>\n",
       "  </tbody>\n",
       "</table>\n",
       "<p>5 rows × 35 columns</p>\n",
       "</div>"
      ],
      "text/plain": [
       "   danceability_x  energy_x  key_x  loudness_x  mode_x  speechiness_x  \\\n",
       "0           0.761     0.607      7      -4.830       1         0.0312   \n",
       "1           0.737     0.725      0      -5.417       1         0.0641   \n",
       "2           0.575     0.824      2      -4.823       1         0.0380   \n",
       "3           0.547     0.885      0      -5.961       1         0.0418   \n",
       "4           0.586     0.720      0      -5.556       1         0.0350   \n",
       "\n",
       "   acousticness_x  instrumentalness_x  liveness_x  valence_x  ...  \\\n",
       "0        0.009610            0.000022      0.3670      0.674  ...   \n",
       "1        0.097600            0.000000      0.1740      0.755  ...   \n",
       "2        0.000418            0.021400      0.0901      0.292  ...   \n",
       "3        0.000512            0.000094      0.3900      0.192  ...   \n",
       "4        0.000718            0.000000      0.0949      0.481  ...   \n",
       "\n",
       "   instrumentalness_y liveness_y valence_y  tempo_y          type_y  \\\n",
       "0            0.000022     0.3670     0.674  116.980  audio_features   \n",
       "1            0.000000     0.1740     0.755   96.012  audio_features   \n",
       "2            0.021400     0.0901     0.292   94.971  audio_features   \n",
       "3            0.000094     0.3900     0.192   91.992  audio_features   \n",
       "4            0.000000     0.0949     0.481   97.057  audio_features   \n",
       "\n",
       "                                  uri_y  \\\n",
       "0  spotify:track:1hR8BSuEqPCCZfv93zzzz9   \n",
       "1  spotify:track:45wMBGri1PORPjM9PwFfrS   \n",
       "2  spotify:track:1hjRhYpWyqDpPahmSlUTlc   \n",
       "3  spotify:track:045ZeOHPIzhxxsm8bq5kyE   \n",
       "4  spotify:track:6GXgd1BPD9bUpqw5AntGV5   \n",
       "\n",
       "                                        track_href_y  \\\n",
       "0  https://api.spotify.com/v1/tracks/1hR8BSuEqPCC...   \n",
       "1  https://api.spotify.com/v1/tracks/45wMBGri1POR...   \n",
       "2  https://api.spotify.com/v1/tracks/1hjRhYpWyqDp...   \n",
       "3  https://api.spotify.com/v1/tracks/045ZeOHPIzhx...   \n",
       "4  https://api.spotify.com/v1/tracks/6GXgd1BPD9bU...   \n",
       "\n",
       "                                      analysis_url_y  duration_ms_y  \\\n",
       "0  https://api.spotify.com/v1/audio-analysis/1hR8...         212600   \n",
       "1  https://api.spotify.com/v1/audio-analysis/45wM...         231833   \n",
       "2  https://api.spotify.com/v1/audio-analysis/1hjR...         231000   \n",
       "3  https://api.spotify.com/v1/audio-analysis/045Z...         235800   \n",
       "4  https://api.spotify.com/v1/audio-analysis/6GXg...         193289   \n",
       "\n",
       "   time_signature_y  \n",
       "0                 4  \n",
       "1                 4  \n",
       "2                 4  \n",
       "3                 4  \n",
       "4                 4  \n",
       "\n",
       "[5 rows x 35 columns]"
      ]
     },
     "execution_count": 425,
     "metadata": {},
     "output_type": "execute_result"
    }
   ],
   "source": [
    "joined_df.head()"
   ]
  },
  {
   "cell_type": "markdown",
   "id": "04f02636",
   "metadata": {},
   "source": [
    "### Histogram"
   ]
  },
  {
   "cell_type": "code",
   "execution_count": 426,
   "id": "88f0dbb6",
   "metadata": {},
   "outputs": [
    {
     "data": {
      "image/png": "[encoded data removed]",
      "text/plain": [
       "<Figure size 640x480 with 2 Axes>"
      ]
     },
     "metadata": {},
     "output_type": "display_data"
    }
   ],
   "source": [
    "fig1, ax1 = plt.subplots(1,2)\n",
    "ax1[0].hist(mid_album_df['energy'])\n",
    "ax1[0].hist(ts_album_df['energy'], alpha = .8)\n",
    "ax1[1].hist(mid_album_df['danceability'])\n",
    "ax1[1].hist(ts_album_df['danceability'], alpha = .8)\n",
    "\n",
    "\n",
    "\n",
    "plt.show()"
   ]
  },
  {
   "cell_type": "markdown",
   "id": "dd2de4e9",
   "metadata": {},
   "source": [
    "From these histograms, I conclude that Taylor Swift's 1989 (Taylor's Version) has a higher energy and danceability than her album Midnights. This didn't surprise me based on the songs that are in 1989 have more of an upbeat to them besides a few of them as proven in the histogram. However, it interesting to see that in both albums the energy for many of the songs is rather high, that doesn't correlate to the danceability of the song itself like I thought it would've."
   ]
  },
  {
   "cell_type": "markdown",
   "id": "9b2cffde",
   "metadata": {},
   "source": [
    "### Scatter 1"
   ]
  },
  {
   "cell_type": "code",
   "execution_count": 427,
   "id": "8c099984",
   "metadata": {
    "scrolled": true
   },
   "outputs": [
    {
     "data": {
      "image/png": "[encoded data removed]",
      "text/plain": [
       "<Figure size 640x480 with 1 Axes>"
      ]
     },
     "metadata": {},
     "output_type": "display_data"
    },
    {
     "data": {
      "image/png": "[encoded data removed]",
      "text/plain": [
       "<Figure size 640x480 with 1 Axes>"
      ]
     },
     "metadata": {},
     "output_type": "display_data"
    }
   ],
   "source": [
    "fig2, ax2 = plt.subplots()\n",
    "ax2.scatter(x = mid_album_df['danceability'], y = mid_album_df['energy'])\n",
    "\n",
    "fig3, ax3 = plt.subplots()\n",
    "ax3.scatter(x = ts_album_df['danceability'], y = ts_album_df['energy'])\n",
    "\n",
    "plt.show()"
   ]
  },
  {
   "cell_type": "markdown",
   "id": "96fa250f",
   "metadata": {},
   "source": [
    "Based on the scatterplots, I believe I am able to see that the energy and danceability in the Midnights album has more correlation together than the danceability and energy of 1989 (Taylor's Version). The points on the Midnights album are closer to one side of the axis while the 1989 points are more all over the axis."
   ]
  },
  {
   "cell_type": "markdown",
   "id": "f41e13d0",
   "metadata": {},
   "source": [
    "### Scatter 2"
   ]
  },
  {
   "cell_type": "code",
   "execution_count": 428,
   "id": "5153b081",
   "metadata": {},
   "outputs": [
    {
     "data": {
      "image/png": "[encoded data removed]",
      "text/plain": [
       "<Figure size 640x480 with 1 Axes>"
      ]
     },
     "metadata": {},
     "output_type": "display_data"
    }
   ],
   "source": [
    "fig4, ax4 = plt.subplots()\n",
    "ax4.scatter(x = mid_album_df['danceability'], \n",
    "            y = mid_album_df['energy'], \n",
    "            label = 'Midnights', \n",
    "            color = 'red', \n",
    "            marker = '^')\n",
    "ax4.scatter(x = ts_album_df['danceability'], \n",
    "            y = ts_album_df['energy'], \n",
    "            label = '1989 Taylors Version', \n",
    "            color = 'blue', \n",
    "            marker = 's',\n",
    "            alpha = .4)\n",
    "\n",
    "ax4.set_title('Relationship between\\nDanceability and Energy for Two Favorite Albums')\n",
    "ax4.set_xlabel('Danceability')\n",
    "ax4.set_ylabel('Energy')\n",
    "ax4.legend()\n",
    "\n",
    "plt.show()"
   ]
  },
  {
   "cell_type": "markdown",
   "id": "4b7bd5bd",
   "metadata": {},
   "source": [
    "The results of this scatter plot surpised me because of how all of the 1989 (Taylor's Version) squares lay in the exact same position as the Midnight's triangles, making me concered that I made an error in the process of making this scatter plot, however if I did, I am not sure where.\n",
    "\n",
    "I was able to increase the figure by adding in a title to the scatterplot and to the axis as well. I also changed the shapes and color of the points as well as adding in a key to be able to know which point is which allowing for easier readability. "
   ]
  },
  {
   "cell_type": "markdown",
   "id": "ddc9a7e3",
   "metadata": {},
   "source": [
    "### Boxplot"
   ]
  },
  {
   "cell_type": "code",
   "execution_count": 429,
   "id": "a9325902",
   "metadata": {
    "scrolled": true
   },
   "outputs": [
    {
     "data": {
      "image/png": "[encoded data removed]",
      "text/plain": [
       "<Figure size 640x480 with 1 Axes>"
      ]
     },
     "metadata": {},
     "output_type": "display_data"
    }
   ],
   "source": [
    "mid_dance = mid_album_df['danceability']\n",
    "mid_xs = [1] * len(mid_dance)\n",
    "mid_x_jitter = np.random.uniform(-0.10, .10, len(mid_xs))\n",
    "\n",
    "fig5, ax5 = plt.subplots()\n",
    "ax5.boxplot(mid_dance, positions = [1])\n",
    "ax5.scatter(mid_xs + mid_x_jitter, mid_album_df['danceability'], alpha = .5)\n",
    "\n",
    "plt.show()"
   ]
  },
  {
   "cell_type": "markdown",
   "id": "da4ac9c1",
   "metadata": {},
   "source": [
    "From the creation of this boxplot it is helpful to see where the majority of Taylor Swift's songs from Midnights fall according to danceability. The boxplot allows for the maximum and minimum points to be shown as well as showing where the average and median is as well. Providing the user with a data summary of Midnights danceability values."
   ]
  },
  {
   "cell_type": "markdown",
   "id": "387caf87",
   "metadata": {},
   "source": [
    "### T Test"
   ]
  },
  {
   "cell_type": "code",
   "execution_count": 430,
   "id": "1b37c50d",
   "metadata": {},
   "outputs": [],
   "source": [
    "mid_dance = mid_album_df['danceability']\n",
    "ts_dance = ts_album_df['danceability']"
   ]
  },
  {
   "cell_type": "code",
   "execution_count": 431,
   "id": "56c4bd45",
   "metadata": {},
   "outputs": [],
   "source": [
    "result1 = stats.ttest_ind(mid_dance, ts_dance)"
   ]
  },
  {
   "cell_type": "code",
   "execution_count": 432,
   "id": "0604d136",
   "metadata": {},
   "outputs": [
    {
     "data": {
      "text/plain": [
       "0.08683382475586385"
      ]
     },
     "execution_count": 432,
     "metadata": {},
     "output_type": "execute_result"
    }
   ],
   "source": [
    "result1.statistic"
   ]
  },
  {
   "cell_type": "code",
   "execution_count": 433,
   "id": "d5b4b7af",
   "metadata": {},
   "outputs": [
    {
     "data": {
      "text/plain": [
       "0.93113"
      ]
     },
     "execution_count": 433,
     "metadata": {},
     "output_type": "execute_result"
    }
   ],
   "source": [
    "round(result1.pvalue, 5)"
   ]
  },
  {
   "cell_type": "markdown",
   "id": "f404681a",
   "metadata": {},
   "source": [
    "These results tell me that the two albums danceability is not very different to each other. I feel that this again could have to do with the albums being written by the same artist and it having to do with the style of the music, however, I am not fully positive with that assumption. "
   ]
  },
  {
   "cell_type": "markdown",
   "id": "7e9d7292",
   "metadata": {},
   "source": [
    "## Conculsion \n",
    "From all of these plots, I have been able to gain a better understanding of how to use them to find out if information is relative to each other and if it is not. By comparing two of the albums that I am currently listening to and consider my favorite at the moment, I am able to test if these albums are my favorite by if they have similar audio features or not. In the end I do feel that they are similar but I do also feel that this has to do with the to albums being by the same artist. I am curious to know whether or not the data would change to more different if I added in a country album or a different pop album. \n",
    "\n",
    "## Reflection \n",
    "If I could do this assignment again, I think that I would first like to finish testing out the rest of the audio features and seeing they are similar or not. Once that is done, I would want to find a different album that I enjoy and compare with either Midnights or 1989 (Taylor's Version) to see where the difference might lay in the plots and if I can gain a better insight into why I tend to like the music that I do. "
   ]
  }
 ],
 "metadata": {
  "kernelspec": {
   "display_name": "Python 3 (ipykernel)",
   "language": "python",
   "name": "python3"
  },
  "language_info": {
   "codemirror_mode": {
    "name": "ipython",
    "version": 3
   },
   "file_extension": ".py",
   "mimetype": "text/x-python",
   "name": "python",
   "nbconvert_exporter": "python",
   "pygments_lexer": "ipython3",
   "version": "3.11.4"
  }
 },
 "nbformat": 4,
 "nbformat_minor": 5
}
