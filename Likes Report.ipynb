{
 "cells": [
  {
   "cell_type": "markdown",
   "id": "953e9b37",
   "metadata": {},
   "source": [
    "## Reanna Laurell\n",
    "\n",
    "### Hypothesis\n",
    "If I have had instagram since 2013 then my number of likes should be around 1,000 in total.\n",
    "\n",
    "The statistical part of my hypothesis comes from me assuming that in last 10 years I have atleast liked 100 posts a year. This is also suppose to cover for the days that I wasn't on Instagram due to traveling as well as for recently when I haven't been on it has much. The theoretical part of my hypothesis is assuming that 1,000 post is a big enough number to cover having Instagram for the last 10 years.\n",
    "\n",
    "The data included in liked_post.json file is appropiate for testing my hypthesis because it will be able to show the total number of likes I had within the ten year span, as well as more information on each post that I liked, including the time stamp."
   ]
  },
  {
   "cell_type": "markdown",
   "id": "0854ade0",
   "metadata": {},
   "source": [
    "Instagram collected and stored the data of my liked over the years that I have had the app. They collected this data and kept it to better understand what type of content that I liked more and found reels and ads to connect with those interests. This data is reliable in displaying information on users posts that I have liked over the years as well as the time frame of when I liked the post. This data may be unreliable as it goes further back in time as Instagram might not have kept detailed reports from then or it could be unreliable because I downloaded this information roughly two weeks ago and have liked posts since then as well. "
   ]
  },
  {
   "cell_type": "markdown",
   "id": "82f56164",
   "metadata": {},
   "source": [
    "### Data"
   ]
  },
  {
   "cell_type": "code",
   "execution_count": 6,
   "id": "b82900eb",
   "metadata": {},
   "outputs": [
    {
     "name": "stdout",
     "output_type": "stream",
     "text": [
      "Intel MKL WARNING: Support of Intel(R) Streaming SIMD Extensions 4.2 (Intel(R) SSE4.2) enabled only processors has been deprecated. Intel oneAPI Math Kernel Library 2025.0 will require Intel(R) Advanced Vector Extensions (Intel(R) AVX) instructions.\n",
      "Intel MKL WARNING: Support of Intel(R) Streaming SIMD Extensions 4.2 (Intel(R) SSE4.2) enabled only processors has been deprecated. Intel oneAPI Math Kernel Library 2025.0 will require Intel(R) Advanced Vector Extensions (Intel(R) AVX) instructions.\n"
     ]
    }
   ],
   "source": [
    "import pandas as pd\n",
    "import json"
   ]
  },
  {
   "cell_type": "code",
   "execution_count": 7,
   "id": "5d952e0b",
   "metadata": {},
   "outputs": [],
   "source": [
    "with open(\"/Users/reannalaurell/Library/Mobile Documents/com~apple~CloudDocs/Downloads/instagram-reanna.r.21 2/likes/liked_posts.json\") as j: \n",
    "    my_likes = json.load(j)"
   ]
  },
  {
   "cell_type": "code",
   "execution_count": 39,
   "id": "c164a9f8",
   "metadata": {},
   "outputs": [
    {
     "data": {
      "text/plain": [
       "dict_keys(['likes_media_likes'])"
      ]
     },
     "execution_count": 39,
     "metadata": {},
     "output_type": "execute_result"
    }
   ],
   "source": [
    "my_likes.keys()"
   ]
  },
  {
   "cell_type": "code",
   "execution_count": 16,
   "id": "cacb5119",
   "metadata": {},
   "outputs": [],
   "source": [
    "likes_data = pd.DataFrame(my_likes['likes_media_likes'])"
   ]
  },
  {
   "cell_type": "code",
   "execution_count": 17,
   "id": "385f4f01",
   "metadata": {},
   "outputs": [
    {
     "data": {
      "text/html": [
       "<div>\n",
       "<style scoped>\n",
       "    .dataframe tbody tr th:only-of-type {\n",
       "        vertical-align: middle;\n",
       "    }\n",
       "\n",
       "    .dataframe tbody tr th {\n",
       "        vertical-align: top;\n",
       "    }\n",
       "\n",
       "    .dataframe thead th {\n",
       "        text-align: right;\n",
       "    }\n",
       "</style>\n",
       "<table border=\"1\" class=\"dataframe\">\n",
       "  <thead>\n",
       "    <tr style=\"text-align: right;\">\n",
       "      <th></th>\n",
       "      <th>title</th>\n",
       "      <th>string_list_data</th>\n",
       "    </tr>\n",
       "  </thead>\n",
       "  <tbody>\n",
       "    <tr>\n",
       "      <th>3988</th>\n",
       "      <td>canisiuswsoccer</td>\n",
       "      <td>[{'href': 'https://www.instagram.com/p/Ch7UWu2...</td>\n",
       "    </tr>\n",
       "    <tr>\n",
       "      <th>3989</th>\n",
       "      <td>annaxsitar</td>\n",
       "      <td>[{'href': 'https://www.instagram.com/p/Ch3mOxC...</td>\n",
       "    </tr>\n",
       "    <tr>\n",
       "      <th>3990</th>\n",
       "      <td>jess</td>\n",
       "      <td>[{'href': 'https://www.instagram.com/p/Ch66l2w...</td>\n",
       "    </tr>\n",
       "    <tr>\n",
       "      <th>3991</th>\n",
       "      <td>haleyhightowerr</td>\n",
       "      <td>[{'href': 'https://www.instagram.com/p/Ch5uCVg...</td>\n",
       "    </tr>\n",
       "    <tr>\n",
       "      <th>3992</th>\n",
       "      <td>libby_zacharyasz</td>\n",
       "      <td>[{'href': 'https://www.instagram.com/p/Ch5nSzO...</td>\n",
       "    </tr>\n",
       "  </tbody>\n",
       "</table>\n",
       "</div>"
      ],
      "text/plain": [
       "                 title                                   string_list_data\n",
       "3988   canisiuswsoccer  [{'href': 'https://www.instagram.com/p/Ch7UWu2...\n",
       "3989        annaxsitar  [{'href': 'https://www.instagram.com/p/Ch3mOxC...\n",
       "3990              jess  [{'href': 'https://www.instagram.com/p/Ch66l2w...\n",
       "3991   haleyhightowerr  [{'href': 'https://www.instagram.com/p/Ch5uCVg...\n",
       "3992  libby_zacharyasz  [{'href': 'https://www.instagram.com/p/Ch5nSzO..."
      ]
     },
     "execution_count": 17,
     "metadata": {},
     "output_type": "execute_result"
    }
   ],
   "source": [
    "likes_data.tail()"
   ]
  },
  {
   "cell_type": "code",
   "execution_count": 18,
   "id": "4cfe6c70",
   "metadata": {},
   "outputs": [
    {
     "data": {
      "text/plain": [
       "list"
      ]
     },
     "execution_count": 18,
     "metadata": {},
     "output_type": "execute_result"
    }
   ],
   "source": [
    "type(my_likes['likes_media_likes'])"
   ]
  },
  {
   "cell_type": "code",
   "execution_count": 19,
   "id": "0272f91f",
   "metadata": {},
   "outputs": [
    {
     "data": {
      "text/plain": [
       "1691630134"
      ]
     },
     "execution_count": 19,
     "metadata": {},
     "output_type": "execute_result"
    }
   ],
   "source": [
    "my_likes['likes_media_likes'][256]['string_list_data'][0]['timestamp']"
   ]
  },
  {
   "cell_type": "code",
   "execution_count": 20,
   "id": "e7c64669",
   "metadata": {},
   "outputs": [],
   "source": [
    "times = [x['string_list_data'][0]['timestamp'] for x in my_likes['likes_media_likes']]"
   ]
  },
  {
   "cell_type": "code",
   "execution_count": 40,
   "id": "6ba7e751",
   "metadata": {},
   "outputs": [
    {
     "data": {
      "text/plain": [
       "[1693417607,\n",
       " 1693417528,\n",
       " 1693393708,\n",
       " 1693393696,\n",
       " 1693393596,\n",
       " 1693359959,\n",
       " 1693353541,\n",
       " 1693353309,\n",
       " 1693349385,\n",
       " 1693348199]"
      ]
     },
     "execution_count": 40,
     "metadata": {},
     "output_type": "execute_result"
    }
   ],
   "source": [
    "times[0:10]"
   ]
  },
  {
   "cell_type": "code",
   "execution_count": 22,
   "id": "5dd13bde",
   "metadata": {},
   "outputs": [],
   "source": [
    "likes_data['timestamp'] = times"
   ]
  },
  {
   "cell_type": "code",
   "execution_count": 23,
   "id": "4538c3f3",
   "metadata": {},
   "outputs": [
    {
     "data": {
      "text/html": [
       "<div>\n",
       "<style scoped>\n",
       "    .dataframe tbody tr th:only-of-type {\n",
       "        vertical-align: middle;\n",
       "    }\n",
       "\n",
       "    .dataframe tbody tr th {\n",
       "        vertical-align: top;\n",
       "    }\n",
       "\n",
       "    .dataframe thead th {\n",
       "        text-align: right;\n",
       "    }\n",
       "</style>\n",
       "<table border=\"1\" class=\"dataframe\">\n",
       "  <thead>\n",
       "    <tr style=\"text-align: right;\">\n",
       "      <th></th>\n",
       "      <th>title</th>\n",
       "      <th>string_list_data</th>\n",
       "      <th>timestamp</th>\n",
       "    </tr>\n",
       "  </thead>\n",
       "  <tbody>\n",
       "    <tr>\n",
       "      <th>0</th>\n",
       "      <td>byspencerthomas</td>\n",
       "      <td>[{'href': 'https://www.instagram.com/reel/Cukj...</td>\n",
       "      <td>1693417607</td>\n",
       "    </tr>\n",
       "    <tr>\n",
       "      <th>1</th>\n",
       "      <td>abigail_van_drunen</td>\n",
       "      <td>[{'href': 'https://www.instagram.com/p/CwknjE-...</td>\n",
       "      <td>1693417528</td>\n",
       "    </tr>\n",
       "    <tr>\n",
       "      <th>2</th>\n",
       "      <td>msu_football</td>\n",
       "      <td>[{'href': 'https://www.instagram.com/p/CwjTszs...</td>\n",
       "      <td>1693393708</td>\n",
       "    </tr>\n",
       "    <tr>\n",
       "      <th>3</th>\n",
       "      <td>kuna.2</td>\n",
       "      <td>[{'href': 'https://www.instagram.com/p/CwjcWdw...</td>\n",
       "      <td>1693393696</td>\n",
       "    </tr>\n",
       "    <tr>\n",
       "      <th>4</th>\n",
       "      <td>thomasrhettakins</td>\n",
       "      <td>[{'href': 'https://www.instagram.com/p/CwjG2pY...</td>\n",
       "      <td>1693393596</td>\n",
       "    </tr>\n",
       "  </tbody>\n",
       "</table>\n",
       "</div>"
      ],
      "text/plain": [
       "                title                                   string_list_data  \\\n",
       "0     byspencerthomas  [{'href': 'https://www.instagram.com/reel/Cukj...   \n",
       "1  abigail_van_drunen  [{'href': 'https://www.instagram.com/p/CwknjE-...   \n",
       "2        msu_football  [{'href': 'https://www.instagram.com/p/CwjTszs...   \n",
       "3              kuna.2  [{'href': 'https://www.instagram.com/p/CwjcWdw...   \n",
       "4    thomasrhettakins  [{'href': 'https://www.instagram.com/p/CwjG2pY...   \n",
       "\n",
       "    timestamp  \n",
       "0  1693417607  \n",
       "1  1693417528  \n",
       "2  1693393708  \n",
       "3  1693393696  \n",
       "4  1693393596  "
      ]
     },
     "execution_count": 23,
     "metadata": {},
     "output_type": "execute_result"
    }
   ],
   "source": [
    "likes_data.head()"
   ]
  },
  {
   "cell_type": "code",
   "execution_count": 42,
   "id": "30f6bb30",
   "metadata": {
    "scrolled": true
   },
   "outputs": [
    {
     "data": {
      "text/html": [
       "<div>\n",
       "<style scoped>\n",
       "    .dataframe tbody tr th:only-of-type {\n",
       "        vertical-align: middle;\n",
       "    }\n",
       "\n",
       "    .dataframe tbody tr th {\n",
       "        vertical-align: top;\n",
       "    }\n",
       "\n",
       "    .dataframe thead th {\n",
       "        text-align: right;\n",
       "    }\n",
       "</style>\n",
       "<table border=\"1\" class=\"dataframe\">\n",
       "  <thead>\n",
       "    <tr style=\"text-align: right;\">\n",
       "      <th></th>\n",
       "      <th>string_list_data</th>\n",
       "      <th>timestamp</th>\n",
       "    </tr>\n",
       "    <tr>\n",
       "      <th>title</th>\n",
       "      <th></th>\n",
       "      <th></th>\n",
       "    </tr>\n",
       "  </thead>\n",
       "  <tbody>\n",
       "    <tr>\n",
       "      <th>4paws_crick_</th>\n",
       "      <td>4</td>\n",
       "      <td>4</td>\n",
       "    </tr>\n",
       "    <tr>\n",
       "      <th>_amysophia</th>\n",
       "      <td>3</td>\n",
       "      <td>3</td>\n",
       "    </tr>\n",
       "    <tr>\n",
       "      <th>__tbaker99__</th>\n",
       "      <td>3</td>\n",
       "      <td>3</td>\n",
       "    </tr>\n",
       "    <tr>\n",
       "      <th>_alex_perez1</th>\n",
       "      <td>2</td>\n",
       "      <td>2</td>\n",
       "    </tr>\n",
       "    <tr>\n",
       "      <th>4paws_lavender</th>\n",
       "      <td>2</td>\n",
       "      <td>2</td>\n",
       "    </tr>\n",
       "    <tr>\n",
       "      <th>1.direction_ot5</th>\n",
       "      <td>1</td>\n",
       "      <td>1</td>\n",
       "    </tr>\n",
       "    <tr>\n",
       "      <th>917vis</th>\n",
       "      <td>1</td>\n",
       "      <td>1</td>\n",
       "    </tr>\n",
       "    <tr>\n",
       "      <th>_akshujain_</th>\n",
       "      <td>1</td>\n",
       "      <td>1</td>\n",
       "    </tr>\n",
       "    <tr>\n",
       "      <th>__wherewewander</th>\n",
       "      <td>1</td>\n",
       "      <td>1</td>\n",
       "    </tr>\n",
       "    <tr>\n",
       "      <th>__thelittlesunflower.reads___</th>\n",
       "      <td>1</td>\n",
       "      <td>1</td>\n",
       "    </tr>\n",
       "    <tr>\n",
       "      <th>_.shroyer._</th>\n",
       "      <td>1</td>\n",
       "      <td>1</td>\n",
       "    </tr>\n",
       "    <tr>\n",
       "      <th>8eyestheband</th>\n",
       "      <td>1</td>\n",
       "      <td>1</td>\n",
       "    </tr>\n",
       "    <tr>\n",
       "      <th>1000libraries</th>\n",
       "      <td>1</td>\n",
       "      <td>1</td>\n",
       "    </tr>\n",
       "    <tr>\n",
       "      <th>3amaashima</th>\n",
       "      <td>1</td>\n",
       "      <td>1</td>\n",
       "    </tr>\n",
       "    <tr>\n",
       "      <th>392.dr3</th>\n",
       "      <td>1</td>\n",
       "      <td>1</td>\n",
       "    </tr>\n",
       "    <tr>\n",
       "      <th>21.79am</th>\n",
       "      <td>1</td>\n",
       "      <td>1</td>\n",
       "    </tr>\n",
       "    <tr>\n",
       "      <th>20sandthriving</th>\n",
       "      <td>1</td>\n",
       "      <td>1</td>\n",
       "    </tr>\n",
       "    <tr>\n",
       "      <th>1k_dean</th>\n",
       "      <td>1</td>\n",
       "      <td>1</td>\n",
       "    </tr>\n",
       "    <tr>\n",
       "      <th>1989.mp3</th>\n",
       "      <td>1</td>\n",
       "      <td>1</td>\n",
       "    </tr>\n",
       "    <tr>\n",
       "      <th>_ashley_michaels_</th>\n",
       "      <td>1</td>\n",
       "      <td>1</td>\n",
       "    </tr>\n",
       "  </tbody>\n",
       "</table>\n",
       "</div>"
      ],
      "text/plain": [
       "                               string_list_data  timestamp\n",
       "title                                                     \n",
       "4paws_crick_                                  4          4\n",
       "_amysophia                                    3          3\n",
       "__tbaker99__                                  3          3\n",
       "_alex_perez1                                  2          2\n",
       "4paws_lavender                                2          2\n",
       "1.direction_ot5                               1          1\n",
       "917vis                                        1          1\n",
       "_akshujain_                                   1          1\n",
       "__wherewewander                               1          1\n",
       "__thelittlesunflower.reads___                 1          1\n",
       "_.shroyer._                                   1          1\n",
       "8eyestheband                                  1          1\n",
       "1000libraries                                 1          1\n",
       "3amaashima                                    1          1\n",
       "392.dr3                                       1          1\n",
       "21.79am                                       1          1\n",
       "20sandthriving                                1          1\n",
       "1k_dean                                       1          1\n",
       "1989.mp3                                      1          1\n",
       "_ashley_michaels_                             1          1"
      ]
     },
     "execution_count": 42,
     "metadata": {},
     "output_type": "execute_result"
    }
   ],
   "source": [
    "likes_data.groupby('title').count().head(20).sort_values('timestamp', ascending = False)"
   ]
  },
  {
   "cell_type": "code",
   "execution_count": 41,
   "id": "026ae0de",
   "metadata": {},
   "outputs": [
    {
     "data": {
      "text/html": [
       "<div>\n",
       "<style scoped>\n",
       "    .dataframe tbody tr th:only-of-type {\n",
       "        vertical-align: middle;\n",
       "    }\n",
       "\n",
       "    .dataframe tbody tr th {\n",
       "        vertical-align: top;\n",
       "    }\n",
       "\n",
       "    .dataframe thead th {\n",
       "        text-align: right;\n",
       "    }\n",
       "</style>\n",
       "<table border=\"1\" class=\"dataframe\">\n",
       "  <thead>\n",
       "    <tr style=\"text-align: right;\">\n",
       "      <th></th>\n",
       "      <th>string_list_data</th>\n",
       "      <th>timestamp</th>\n",
       "    </tr>\n",
       "    <tr>\n",
       "      <th>title</th>\n",
       "      <th></th>\n",
       "      <th></th>\n",
       "    </tr>\n",
       "  </thead>\n",
       "  <tbody>\n",
       "    <tr>\n",
       "      <th>zhrarealtor</th>\n",
       "      <td>14</td>\n",
       "      <td>14</td>\n",
       "    </tr>\n",
       "    <tr>\n",
       "      <th>zayw0nderlxnd</th>\n",
       "      <td>6</td>\n",
       "      <td>6</td>\n",
       "    </tr>\n",
       "    <tr>\n",
       "      <th>zacefron</th>\n",
       "      <td>2</td>\n",
       "      <td>2</td>\n",
       "    </tr>\n",
       "    <tr>\n",
       "      <th>zachbeeken</th>\n",
       "      <td>2</td>\n",
       "      <td>2</td>\n",
       "    </tr>\n",
       "    <tr>\n",
       "      <th>zachseabaugh</th>\n",
       "      <td>2</td>\n",
       "      <td>2</td>\n",
       "    </tr>\n",
       "    <tr>\n",
       "      <th>youremotionalwellness</th>\n",
       "      <td>1</td>\n",
       "      <td>1</td>\n",
       "    </tr>\n",
       "    <tr>\n",
       "      <th>zooeydeschanel</th>\n",
       "      <td>1</td>\n",
       "      <td>1</td>\n",
       "    </tr>\n",
       "    <tr>\n",
       "      <th>zoemorriskuhn</th>\n",
       "      <td>1</td>\n",
       "      <td>1</td>\n",
       "    </tr>\n",
       "    <tr>\n",
       "      <th>zionglampingadventures</th>\n",
       "      <td>1</td>\n",
       "      <td>1</td>\n",
       "    </tr>\n",
       "    <tr>\n",
       "      <th>zionadventurephotog</th>\n",
       "      <td>1</td>\n",
       "      <td>1</td>\n",
       "    </tr>\n",
       "    <tr>\n",
       "      <th>zeljko_hornjak00</th>\n",
       "      <td>1</td>\n",
       "      <td>1</td>\n",
       "    </tr>\n",
       "    <tr>\n",
       "      <th>zahrakell</th>\n",
       "      <td>1</td>\n",
       "      <td>1</td>\n",
       "    </tr>\n",
       "    <tr>\n",
       "      <th>zandaleec</th>\n",
       "      <td>1</td>\n",
       "      <td>1</td>\n",
       "    </tr>\n",
       "    <tr>\n",
       "      <th>yournationalparks</th>\n",
       "      <td>1</td>\n",
       "      <td>1</td>\n",
       "    </tr>\n",
       "    <tr>\n",
       "      <th>zachary.hood</th>\n",
       "      <td>1</td>\n",
       "      <td>1</td>\n",
       "    </tr>\n",
       "    <tr>\n",
       "      <th>zacgideo</th>\n",
       "      <td>1</td>\n",
       "      <td>1</td>\n",
       "    </tr>\n",
       "    <tr>\n",
       "      <th>yusraahs.art</th>\n",
       "      <td>1</td>\n",
       "      <td>1</td>\n",
       "    </tr>\n",
       "    <tr>\n",
       "      <th>yuliabromley</th>\n",
       "      <td>1</td>\n",
       "      <td>1</td>\n",
       "    </tr>\n",
       "    <tr>\n",
       "      <th>yourpositivenews</th>\n",
       "      <td>1</td>\n",
       "      <td>1</td>\n",
       "    </tr>\n",
       "    <tr>\n",
       "      <th>zorya.sg</th>\n",
       "      <td>1</td>\n",
       "      <td>1</td>\n",
       "    </tr>\n",
       "  </tbody>\n",
       "</table>\n",
       "</div>"
      ],
      "text/plain": [
       "                        string_list_data  timestamp\n",
       "title                                              \n",
       "zhrarealtor                           14         14\n",
       "zayw0nderlxnd                          6          6\n",
       "zacefron                               2          2\n",
       "zachbeeken                             2          2\n",
       "zachseabaugh                           2          2\n",
       "youremotionalwellness                  1          1\n",
       "zooeydeschanel                         1          1\n",
       "zoemorriskuhn                          1          1\n",
       "zionglampingadventures                 1          1\n",
       "zionadventurephotog                    1          1\n",
       "zeljko_hornjak00                       1          1\n",
       "zahrakell                              1          1\n",
       "zandaleec                              1          1\n",
       "yournationalparks                      1          1\n",
       "zachary.hood                           1          1\n",
       "zacgideo                               1          1\n",
       "yusraahs.art                           1          1\n",
       "yuliabromley                           1          1\n",
       "yourpositivenews                       1          1\n",
       "zorya.sg                               1          1"
      ]
     },
     "execution_count": 41,
     "metadata": {},
     "output_type": "execute_result"
    }
   ],
   "source": [
    "likes_data.groupby('title').count().tail(20).sort_values('timestamp', ascending = False)"
   ]
  },
  {
   "cell_type": "code",
   "execution_count": 25,
   "id": "3aa47e7f",
   "metadata": {},
   "outputs": [
    {
     "data": {
      "text/html": [
       "<div>\n",
       "<style scoped>\n",
       "    .dataframe tbody tr th:only-of-type {\n",
       "        vertical-align: middle;\n",
       "    }\n",
       "\n",
       "    .dataframe tbody tr th {\n",
       "        vertical-align: top;\n",
       "    }\n",
       "\n",
       "    .dataframe thead th {\n",
       "        text-align: right;\n",
       "    }\n",
       "</style>\n",
       "<table border=\"1\" class=\"dataframe\">\n",
       "  <thead>\n",
       "    <tr style=\"text-align: right;\">\n",
       "      <th></th>\n",
       "      <th>string_list_data</th>\n",
       "      <th>timestamp</th>\n",
       "    </tr>\n",
       "    <tr>\n",
       "      <th>title</th>\n",
       "      <th></th>\n",
       "      <th></th>\n",
       "    </tr>\n",
       "  </thead>\n",
       "  <tbody>\n",
       "    <tr>\n",
       "      <th>handmade.by.regan</th>\n",
       "      <td>55</td>\n",
       "      <td>55</td>\n",
       "    </tr>\n",
       "    <tr>\n",
       "      <th>msu_football</th>\n",
       "      <td>50</td>\n",
       "      <td>50</td>\n",
       "    </tr>\n",
       "    <tr>\n",
       "      <th>uswnt</th>\n",
       "      <td>40</td>\n",
       "      <td>40</td>\n",
       "    </tr>\n",
       "    <tr>\n",
       "      <th>jess</th>\n",
       "      <td>38</td>\n",
       "      <td>38</td>\n",
       "    </tr>\n",
       "    <tr>\n",
       "      <th>annaxsitar</th>\n",
       "      <td>33</td>\n",
       "      <td>33</td>\n",
       "    </tr>\n",
       "  </tbody>\n",
       "</table>\n",
       "</div>"
      ],
      "text/plain": [
       "                   string_list_data  timestamp\n",
       "title                                         \n",
       "handmade.by.regan                55         55\n",
       "msu_football                     50         50\n",
       "uswnt                            40         40\n",
       "jess                             38         38\n",
       "annaxsitar                       33         33"
      ]
     },
     "execution_count": 25,
     "metadata": {},
     "output_type": "execute_result"
    }
   ],
   "source": [
    "likes_data.groupby('title').count().sort_values('timestamp', ascending = False).head()"
   ]
  },
  {
   "cell_type": "markdown",
   "id": "df5013fe",
   "metadata": {},
   "source": [
    "### What I learned from the data\n",
    "\n",
    "Once I had created the pandas Data Frame, I was able to gain more information on my likes over the years as well. One thing that was surprising is shown by the line, likes_data.groupby('title').count().sort_values('timestamp', ascending = False).head(). From this chart I was able to see that the most amount of likes to one account have come from recent interactions with these accounts. Handmade.by.regan, is my sister greeting card account that she has only had for about six months at most now. Going down from there the account I have probably been following the longest from the last five is USWNT and that doesn't even have the most likes overall. \n",
    "\n",
    "I was able to learn how to look at the begining and end of the likes data in alphabtical and reverse alphabtical order to see what the different sides of the data looked like. While this isn't neccesarily important to my hypothesis I did find it interesting to look at.\n",
    "\n",
    "### Conclusion\n",
    "\n",
    "Based on what I found from the likes_data method, my total number of likes is actually around 3988, with this being stated, it shows that my hypothesis was off by 2,988. This was surpising to me how off I was as it didn't occur to me before now how much I had used Instagram thoughout the years. From this however, I have been able to learn how to go about making a hypothesis, import the data into a jupyter notebook, and manipulate the data into different Data Frames and sorting methods to further test and find answers from my data.  "
   ]
  }
 ],
 "metadata": {
  "kernelspec": {
   "display_name": "Python 3 (ipykernel)",
   "language": "python",
   "name": "python3"
  },
  "language_info": {
   "codemirror_mode": {
    "name": "ipython",
    "version": 3
   },
   "file_extension": ".py",
   "mimetype": "text/x-python",
   "name": "python",
   "nbconvert_exporter": "python",
   "pygments_lexer": "ipython3",
   "version": "3.11.4"
  }
 },
 "nbformat": 4,
 "nbformat_minor": 5
}
